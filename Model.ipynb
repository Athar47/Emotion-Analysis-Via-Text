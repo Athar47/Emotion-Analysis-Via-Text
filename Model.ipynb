{
  "nbformat": 4,
  "nbformat_minor": 0,
  "metadata": {
    "colab": {
      "provenance": [],
      "authorship_tag": "ABX9TyOid2x39h/FRZDY0jY7RBHs",
      "include_colab_link": true
    },
    "kernelspec": {
      "name": "python3",
      "display_name": "Python 3"
    },
    "language_info": {
      "name": "python"
    }
  },
  "cells": [
    {
      "cell_type": "markdown",
      "metadata": {
        "id": "view-in-github",
        "colab_type": "text"
      },
      "source": [
        "<a href=\"https://colab.research.google.com/github/Athar47/Web-UI-Based-Emotion-Analysis/blob/main/Model.ipynb\" target=\"_parent\"><img src=\"https://colab.research.google.com/assets/colab-badge.svg\" alt=\"Open In Colab\"/></a>"
      ]
    },
    {
      "cell_type": "code",
      "execution_count": 15,
      "metadata": {
        "colab": {
          "base_uri": "https://localhost:8080/"
        },
        "id": "BRNjq0uyXoob",
        "outputId": "4c12e3f9-46e5-4dd9-d168-51c3f2f26650"
      },
      "outputs": [
        {
          "output_type": "stream",
          "name": "stderr",
          "text": [
            "[nltk_data] Downloading package stopwords to /root/nltk_data...\n",
            "[nltk_data]   Package stopwords is already up-to-date!\n"
          ]
        }
      ],
      "source": [
        "import re\n",
        "import nltk\n",
        "import string\n",
        "import numpy as np\n",
        "import pandas as pd\n",
        "import seaborn as sns\n",
        "import matplotlib.pyplot as plt\n",
        "from nltk.corpus import stopwords\n",
        "from nltk.stem import SnowballStemmer, WordNetLemmatizer\n",
        "from sklearn.feature_extraction.text import TfidfVectorizer\n",
        "\n",
        "\n",
        "nltk.download(\"stopwords\")\n",
        "stop_words = set(stopwords.words(\"english\"))\n",
        "lemmatizer= WordNetLemmatizer()\n",
        "\n",
        "\n",
        "from sklearn.ensemble import RandomForestClassifier\n",
        "from sklearn.metrics import accuracy_score,confusion_matrix, classification_report\n",
        "from sklearn.pipeline import Pipeline\n",
        "from sklearn.metrics import f1_score"
      ]
    },
    {
      "cell_type": "code",
      "source": [
        "# Read datasets\n",
        "df_train = pd.read_csv('train.txt', names=['Text', 'Emotion'], sep=';')\n",
        "df_val = pd.read_csv('val.txt', names=['Text', 'Emotion'], sep=';')\n",
        "df_test = pd.read_csv('test.txt', names=['Text', 'Emotion'], sep=';')"
      ],
      "metadata": {
        "id": "o_GNurbYYGsw"
      },
      "execution_count": 16,
      "outputs": []
    },
    {
      "cell_type": "code",
      "source": [
        "#removing duplicated values\n",
        "index = df_train[df_train.duplicated() == True].index\n",
        "df_train.drop(index, axis = 0, inplace = True)\n",
        "df_train.reset_index(inplace=True, drop = True)"
      ],
      "metadata": {
        "id": "ZV6wGnGZYHIn"
      },
      "execution_count": 17,
      "outputs": []
    },
    {
      "cell_type": "code",
      "source": [
        "#removing duplicated text\n",
        "index = df_val[df_val['Text'].duplicated() == True].index\n",
        "df_val.drop(index, axis = 0, inplace = True)\n",
        "df_val.reset_index(inplace=True, drop = True)"
      ],
      "metadata": {
        "id": "ocwkygKqYTVB"
      },
      "execution_count": 18,
      "outputs": []
    },
    {
      "cell_type": "code",
      "source": [
        "def lemmatization(text):\n",
        "    lemmatizer= WordNetLemmatizer()\n",
        "\n",
        "    text = text.split()\n",
        "\n",
        "    text=[lemmatizer.lemmatize(y) for y in text]\n",
        "\n",
        "    return \" \" .join(text)\n",
        "\n",
        "def remove_stop_words(text):\n",
        "\n",
        "    Text=[i for i in str(text).split() if i not in stop_words]\n",
        "    return \" \".join(Text)\n",
        "\n",
        "def Removing_numbers(text):\n",
        "    text=''.join([i for i in text if not i.isdigit()])\n",
        "    return text\n",
        "\n",
        "def lower_case(text):\n",
        "\n",
        "    text = text.split()\n",
        "\n",
        "    text=[y.lower() for y in text]\n",
        "\n",
        "    return \" \" .join(text)\n",
        "\n",
        "def Removing_punctuations(text):\n",
        "    ## Remove punctuations\n",
        "    text = re.sub('[%s]' % re.escape(\"\"\"!\"#$%&'()*+,،-./:;<=>؟?@[\\]^_`{|}~\"\"\"), ' ', text)\n",
        "    text = text.replace('؛',\"\", )\n",
        "\n",
        "    ## remove extra whitespace\n",
        "    text = re.sub('\\s+', ' ', text)\n",
        "    text =  \" \".join(text.split())\n",
        "    return text.strip()\n",
        "\n",
        "def Removing_urls(text):\n",
        "    url_pattern = re.compile(r'https?://\\S+|www\\.\\S+')\n",
        "    return url_pattern.sub(r'', text)\n",
        "\n",
        "def remove_small_sentences(df):\n",
        "    for i in range(len(df)):\n",
        "        if len(df.text.iloc[i].split()) < 3:\n",
        "            df.text.iloc[i] = np.nan\n",
        "\n",
        "def normalize_text(df):\n",
        "    df.Text=df.Text.apply(lambda text : lower_case(text))\n",
        "    df.Text=df.Text.apply(lambda text : remove_stop_words(text))\n",
        "    df.Text=df.Text.apply(lambda text : Removing_numbers(text))\n",
        "    df.Text=df.Text.apply(lambda text : Removing_punctuations(text))\n",
        "    df.Text=df.Text.apply(lambda text : Removing_urls(text))\n",
        "    df.Text=df.Text.apply(lambda text : lemmatization(text))\n",
        "    return df\n",
        "\n",
        "def normalized_sentence(sentence):\n",
        "    sentence= lower_case(sentence)\n",
        "    sentence= remove_stop_words(sentence)\n",
        "    sentence= Removing_numbers(sentence)\n",
        "    sentence= Removing_punctuations(sentence)\n",
        "    sentence= Removing_urls(sentence)\n",
        "    sentence= lemmatization(sentence)\n",
        "    return sentence"
      ],
      "metadata": {
        "id": "kFxmgaXtYUgV"
      },
      "execution_count": 19,
      "outputs": []
    },
    {
      "cell_type": "code",
      "source": [
        "import nltk\n",
        "nltk.download('wordnet')"
      ],
      "metadata": {
        "colab": {
          "base_uri": "https://localhost:8080/"
        },
        "id": "05bm09fxYVvz",
        "outputId": "b8ea08fe-6eac-4ef6-e945-d23988436a04"
      },
      "execution_count": 20,
      "outputs": [
        {
          "output_type": "stream",
          "name": "stderr",
          "text": [
            "[nltk_data] Downloading package wordnet to /root/nltk_data...\n",
            "[nltk_data]   Package wordnet is already up-to-date!\n"
          ]
        },
        {
          "output_type": "execute_result",
          "data": {
            "text/plain": [
              "True"
            ]
          },
          "metadata": {},
          "execution_count": 20
        }
      ]
    },
    {
      "cell_type": "code",
      "source": [
        "df_train= normalize_text(df_train)\n",
        "df_test= normalize_text(df_test)\n",
        "df_val= normalize_text(df_val)"
      ],
      "metadata": {
        "id": "NNDFHDFdYXPR"
      },
      "execution_count": 21,
      "outputs": []
    },
    {
      "cell_type": "code",
      "source": [
        "X_train = df_train['Text'].values\n",
        "y_train = df_train['Emotion'].values\n",
        "\n",
        "X_test = df_test['Text'].values\n",
        "y_test = df_test['Emotion'].values\n",
        "\n",
        "X_val = df_val['Text'].values\n",
        "y_val = df_val['Emotion'].values"
      ],
      "metadata": {
        "id": "lyn4zCDPYYZN"
      },
      "execution_count": 22,
      "outputs": []
    },
    {
      "cell_type": "code",
      "source": [
        "def train_model(model, data, targets):\n",
        "\n",
        "    # Create a Pipeline object with a TfidfVectorizer and the given model\n",
        "    text_clf = Pipeline([('vect',TfidfVectorizer()),\n",
        "                         ('clf', model)])\n",
        "    # Fit the model on the data and targets\n",
        "    text_clf.fit(data, targets)\n",
        "    return text_clf"
      ],
      "metadata": {
        "id": "fbYijdyjYZhI"
      },
      "execution_count": 23,
      "outputs": []
    },
    {
      "cell_type": "code",
      "source": [
        "def get_F1(trained_model,X,y):\n",
        "\n",
        "    # Make predictions on the input data using the trained model\n",
        "    predicted=trained_model.predict(X)\n",
        "    # Calculate the F1 score for the predictions\n",
        "    f1=f1_score(y,predicted, average=None)\n",
        "    # Return the F1 score\n",
        "    return f1"
      ],
      "metadata": {
        "id": "oDU-6s98Yepv"
      },
      "execution_count": 24,
      "outputs": []
    },
    {
      "cell_type": "code",
      "source": [
        "#Train the model with the training data\n",
        "RF = train_model(RandomForestClassifier(random_state = 0), X_train, y_train)\n",
        "\n",
        "#test the model with the test data\n",
        "y_pred=RF.predict(X_test)\n",
        "\n",
        "#calculate the accuracy\n",
        "RF_accuracy = accuracy_score(y_test, y_pred)\n",
        "print('Accuracy: ', RF_accuracy,'\\n')\n",
        "\n",
        "#calculate the F1 score\n",
        "f1_Score = get_F1(RF, X_test, y_test)\n",
        "pd.DataFrame(f1_Score, index=df_train.Emotion.unique(), columns=['F1 score'])"
      ],
      "metadata": {
        "colab": {
          "base_uri": "https://localhost:8080/",
          "height": 272
        },
        "id": "524T4f4QYgAw",
        "outputId": "71fc4c96-6994-470f-9a2f-653f1e88e20d"
      },
      "execution_count": 25,
      "outputs": [
        {
          "output_type": "stream",
          "name": "stdout",
          "text": [
            "Accuracy:  0.8855 \n",
            "\n"
          ]
        },
        {
          "output_type": "execute_result",
          "data": {
            "text/plain": [
              "          F1 score\n",
              "sadness   0.888087\n",
              "anger     0.855895\n",
              "love      0.910626\n",
              "surprise  0.740741\n",
              "fear      0.929381\n",
              "joy       0.634146"
            ],
            "text/html": [
              "\n",
              "  <div id=\"df-f37b57ab-a450-4e80-83c0-c132f4f1206a\" class=\"colab-df-container\">\n",
              "    <div>\n",
              "<style scoped>\n",
              "    .dataframe tbody tr th:only-of-type {\n",
              "        vertical-align: middle;\n",
              "    }\n",
              "\n",
              "    .dataframe tbody tr th {\n",
              "        vertical-align: top;\n",
              "    }\n",
              "\n",
              "    .dataframe thead th {\n",
              "        text-align: right;\n",
              "    }\n",
              "</style>\n",
              "<table border=\"1\" class=\"dataframe\">\n",
              "  <thead>\n",
              "    <tr style=\"text-align: right;\">\n",
              "      <th></th>\n",
              "      <th>F1 score</th>\n",
              "    </tr>\n",
              "  </thead>\n",
              "  <tbody>\n",
              "    <tr>\n",
              "      <th>sadness</th>\n",
              "      <td>0.888087</td>\n",
              "    </tr>\n",
              "    <tr>\n",
              "      <th>anger</th>\n",
              "      <td>0.855895</td>\n",
              "    </tr>\n",
              "    <tr>\n",
              "      <th>love</th>\n",
              "      <td>0.910626</td>\n",
              "    </tr>\n",
              "    <tr>\n",
              "      <th>surprise</th>\n",
              "      <td>0.740741</td>\n",
              "    </tr>\n",
              "    <tr>\n",
              "      <th>fear</th>\n",
              "      <td>0.929381</td>\n",
              "    </tr>\n",
              "    <tr>\n",
              "      <th>joy</th>\n",
              "      <td>0.634146</td>\n",
              "    </tr>\n",
              "  </tbody>\n",
              "</table>\n",
              "</div>\n",
              "    <div class=\"colab-df-buttons\">\n",
              "\n",
              "  <div class=\"colab-df-container\">\n",
              "    <button class=\"colab-df-convert\" onclick=\"convertToInteractive('df-f37b57ab-a450-4e80-83c0-c132f4f1206a')\"\n",
              "            title=\"Convert this dataframe to an interactive table.\"\n",
              "            style=\"display:none;\">\n",
              "\n",
              "  <svg xmlns=\"http://www.w3.org/2000/svg\" height=\"24px\" viewBox=\"0 -960 960 960\">\n",
              "    <path d=\"M120-120v-720h720v720H120Zm60-500h600v-160H180v160Zm220 220h160v-160H400v160Zm0 220h160v-160H400v160ZM180-400h160v-160H180v160Zm440 0h160v-160H620v160ZM180-180h160v-160H180v160Zm440 0h160v-160H620v160Z\"/>\n",
              "  </svg>\n",
              "    </button>\n",
              "\n",
              "  <style>\n",
              "    .colab-df-container {\n",
              "      display:flex;\n",
              "      gap: 12px;\n",
              "    }\n",
              "\n",
              "    .colab-df-convert {\n",
              "      background-color: #E8F0FE;\n",
              "      border: none;\n",
              "      border-radius: 50%;\n",
              "      cursor: pointer;\n",
              "      display: none;\n",
              "      fill: #1967D2;\n",
              "      height: 32px;\n",
              "      padding: 0 0 0 0;\n",
              "      width: 32px;\n",
              "    }\n",
              "\n",
              "    .colab-df-convert:hover {\n",
              "      background-color: #E2EBFA;\n",
              "      box-shadow: 0px 1px 2px rgba(60, 64, 67, 0.3), 0px 1px 3px 1px rgba(60, 64, 67, 0.15);\n",
              "      fill: #174EA6;\n",
              "    }\n",
              "\n",
              "    .colab-df-buttons div {\n",
              "      margin-bottom: 4px;\n",
              "    }\n",
              "\n",
              "    [theme=dark] .colab-df-convert {\n",
              "      background-color: #3B4455;\n",
              "      fill: #D2E3FC;\n",
              "    }\n",
              "\n",
              "    [theme=dark] .colab-df-convert:hover {\n",
              "      background-color: #434B5C;\n",
              "      box-shadow: 0px 1px 3px 1px rgba(0, 0, 0, 0.15);\n",
              "      filter: drop-shadow(0px 1px 2px rgba(0, 0, 0, 0.3));\n",
              "      fill: #FFFFFF;\n",
              "    }\n",
              "  </style>\n",
              "\n",
              "    <script>\n",
              "      const buttonEl =\n",
              "        document.querySelector('#df-f37b57ab-a450-4e80-83c0-c132f4f1206a button.colab-df-convert');\n",
              "      buttonEl.style.display =\n",
              "        google.colab.kernel.accessAllowed ? 'block' : 'none';\n",
              "\n",
              "      async function convertToInteractive(key) {\n",
              "        const element = document.querySelector('#df-f37b57ab-a450-4e80-83c0-c132f4f1206a');\n",
              "        const dataTable =\n",
              "          await google.colab.kernel.invokeFunction('convertToInteractive',\n",
              "                                                    [key], {});\n",
              "        if (!dataTable) return;\n",
              "\n",
              "        const docLinkHtml = 'Like what you see? Visit the ' +\n",
              "          '<a target=\"_blank\" href=https://colab.research.google.com/notebooks/data_table.ipynb>data table notebook</a>'\n",
              "          + ' to learn more about interactive tables.';\n",
              "        element.innerHTML = '';\n",
              "        dataTable['output_type'] = 'display_data';\n",
              "        await google.colab.output.renderOutput(dataTable, element);\n",
              "        const docLink = document.createElement('div');\n",
              "        docLink.innerHTML = docLinkHtml;\n",
              "        element.appendChild(docLink);\n",
              "      }\n",
              "    </script>\n",
              "  </div>\n",
              "\n",
              "\n",
              "<div id=\"df-50c29acc-9aeb-40c3-be0b-af8c19daac88\">\n",
              "  <button class=\"colab-df-quickchart\" onclick=\"quickchart('df-50c29acc-9aeb-40c3-be0b-af8c19daac88')\"\n",
              "            title=\"Suggest charts\"\n",
              "            style=\"display:none;\">\n",
              "\n",
              "<svg xmlns=\"http://www.w3.org/2000/svg\" height=\"24px\"viewBox=\"0 0 24 24\"\n",
              "     width=\"24px\">\n",
              "    <g>\n",
              "        <path d=\"M19 3H5c-1.1 0-2 .9-2 2v14c0 1.1.9 2 2 2h14c1.1 0 2-.9 2-2V5c0-1.1-.9-2-2-2zM9 17H7v-7h2v7zm4 0h-2V7h2v10zm4 0h-2v-4h2v4z\"/>\n",
              "    </g>\n",
              "</svg>\n",
              "  </button>\n",
              "\n",
              "<style>\n",
              "  .colab-df-quickchart {\n",
              "      --bg-color: #E8F0FE;\n",
              "      --fill-color: #1967D2;\n",
              "      --hover-bg-color: #E2EBFA;\n",
              "      --hover-fill-color: #174EA6;\n",
              "      --disabled-fill-color: #AAA;\n",
              "      --disabled-bg-color: #DDD;\n",
              "  }\n",
              "\n",
              "  [theme=dark] .colab-df-quickchart {\n",
              "      --bg-color: #3B4455;\n",
              "      --fill-color: #D2E3FC;\n",
              "      --hover-bg-color: #434B5C;\n",
              "      --hover-fill-color: #FFFFFF;\n",
              "      --disabled-bg-color: #3B4455;\n",
              "      --disabled-fill-color: #666;\n",
              "  }\n",
              "\n",
              "  .colab-df-quickchart {\n",
              "    background-color: var(--bg-color);\n",
              "    border: none;\n",
              "    border-radius: 50%;\n",
              "    cursor: pointer;\n",
              "    display: none;\n",
              "    fill: var(--fill-color);\n",
              "    height: 32px;\n",
              "    padding: 0;\n",
              "    width: 32px;\n",
              "  }\n",
              "\n",
              "  .colab-df-quickchart:hover {\n",
              "    background-color: var(--hover-bg-color);\n",
              "    box-shadow: 0 1px 2px rgba(60, 64, 67, 0.3), 0 1px 3px 1px rgba(60, 64, 67, 0.15);\n",
              "    fill: var(--button-hover-fill-color);\n",
              "  }\n",
              "\n",
              "  .colab-df-quickchart-complete:disabled,\n",
              "  .colab-df-quickchart-complete:disabled:hover {\n",
              "    background-color: var(--disabled-bg-color);\n",
              "    fill: var(--disabled-fill-color);\n",
              "    box-shadow: none;\n",
              "  }\n",
              "\n",
              "  .colab-df-spinner {\n",
              "    border: 2px solid var(--fill-color);\n",
              "    border-color: transparent;\n",
              "    border-bottom-color: var(--fill-color);\n",
              "    animation:\n",
              "      spin 1s steps(1) infinite;\n",
              "  }\n",
              "\n",
              "  @keyframes spin {\n",
              "    0% {\n",
              "      border-color: transparent;\n",
              "      border-bottom-color: var(--fill-color);\n",
              "      border-left-color: var(--fill-color);\n",
              "    }\n",
              "    20% {\n",
              "      border-color: transparent;\n",
              "      border-left-color: var(--fill-color);\n",
              "      border-top-color: var(--fill-color);\n",
              "    }\n",
              "    30% {\n",
              "      border-color: transparent;\n",
              "      border-left-color: var(--fill-color);\n",
              "      border-top-color: var(--fill-color);\n",
              "      border-right-color: var(--fill-color);\n",
              "    }\n",
              "    40% {\n",
              "      border-color: transparent;\n",
              "      border-right-color: var(--fill-color);\n",
              "      border-top-color: var(--fill-color);\n",
              "    }\n",
              "    60% {\n",
              "      border-color: transparent;\n",
              "      border-right-color: var(--fill-color);\n",
              "    }\n",
              "    80% {\n",
              "      border-color: transparent;\n",
              "      border-right-color: var(--fill-color);\n",
              "      border-bottom-color: var(--fill-color);\n",
              "    }\n",
              "    90% {\n",
              "      border-color: transparent;\n",
              "      border-bottom-color: var(--fill-color);\n",
              "    }\n",
              "  }\n",
              "</style>\n",
              "\n",
              "  <script>\n",
              "    async function quickchart(key) {\n",
              "      const quickchartButtonEl =\n",
              "        document.querySelector('#' + key + ' button');\n",
              "      quickchartButtonEl.disabled = true;  // To prevent multiple clicks.\n",
              "      quickchartButtonEl.classList.add('colab-df-spinner');\n",
              "      try {\n",
              "        const charts = await google.colab.kernel.invokeFunction(\n",
              "            'suggestCharts', [key], {});\n",
              "      } catch (error) {\n",
              "        console.error('Error during call to suggestCharts:', error);\n",
              "      }\n",
              "      quickchartButtonEl.classList.remove('colab-df-spinner');\n",
              "      quickchartButtonEl.classList.add('colab-df-quickchart-complete');\n",
              "    }\n",
              "    (() => {\n",
              "      let quickchartButtonEl =\n",
              "        document.querySelector('#df-50c29acc-9aeb-40c3-be0b-af8c19daac88 button');\n",
              "      quickchartButtonEl.style.display =\n",
              "        google.colab.kernel.accessAllowed ? 'block' : 'none';\n",
              "    })();\n",
              "  </script>\n",
              "</div>\n",
              "\n",
              "    </div>\n",
              "  </div>\n"
            ]
          },
          "metadata": {},
          "execution_count": 25
        }
      ]
    },
    {
      "cell_type": "code",
      "source": [
        "##Classification Report\n",
        "print(classification_report(y_test, y_pred))"
      ],
      "metadata": {
        "colab": {
          "base_uri": "https://localhost:8080/"
        },
        "id": "5d09OlE5YhDz",
        "outputId": "77dab0fd-5e18-4198-f8b6-14ac887480cc"
      },
      "execution_count": 26,
      "outputs": [
        {
          "output_type": "stream",
          "name": "stdout",
          "text": [
            "              precision    recall  f1-score   support\n",
            "\n",
            "       anger       0.88      0.89      0.89       275\n",
            "        fear       0.84      0.88      0.86       224\n",
            "         joy       0.89      0.93      0.91       695\n",
            "        love       0.80      0.69      0.74       159\n",
            "     sadness       0.94      0.92      0.93       581\n",
            "    surprise       0.68      0.59      0.63        66\n",
            "\n",
            "    accuracy                           0.89      2000\n",
            "   macro avg       0.84      0.82      0.83      2000\n",
            "weighted avg       0.88      0.89      0.88      2000\n",
            "\n"
          ]
        }
      ]
    },
    {
      "cell_type": "code",
      "source": [
        "# User input prediction\n",
        "user_input = input(\"Enter a text: \")\n",
        "user_input = normalize_text(pd.DataFrame({'Text': [user_input]})).iloc[0]['Text']\n",
        "user_pred = RF.predict([user_input])\n",
        "print(\"Predicted Emotion:\", user_pred[0])"
      ],
      "metadata": {
        "colab": {
          "base_uri": "https://localhost:8080/"
        },
        "id": "d-DOaCH4YiLL",
        "outputId": "1f2a3707-92a0-41f5-df78-26373e3f5658"
      },
      "execution_count": 27,
      "outputs": [
        {
          "output_type": "stream",
          "name": "stdout",
          "text": [
            "Enter a text: Hi\n",
            "Predicted Emotion: anger\n"
          ]
        }
      ]
    },
    {
      "cell_type": "code",
      "source": [],
      "metadata": {
        "id": "M-fM4LCCYjOD"
      },
      "execution_count": 27,
      "outputs": []
    }
  ]
}